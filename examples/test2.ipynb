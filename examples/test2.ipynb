{
 "cells": [
  {
   "cell_type": "code",
   "execution_count": 58,
   "outputs": [],
   "source": [
    "base=1430668800\n"
   ],
   "metadata": {
    "collapsed": false,
    "pycharm": {
     "name": "#%%\n"
    }
   }
  },
  {
   "cell_type": "code",
   "execution_count": 67,
   "outputs": [
    {
     "name": "stdout",
     "output_type": "stream",
     "text": [
      "1430672400\n",
      "1430679600\n",
      "1430697600\n",
      "1430755200\n"
     ]
    }
   ],
   "source": [
    "#1h,3h,8h,1d\n",
    "needsInHour=[1,3,8,24]\n",
    "for gap in [base+ 3600*i for i in [1,3,8,24]]:\n",
    "    print(gap)"
   ],
   "metadata": {
    "collapsed": false,
    "pycharm": {
     "name": "#%%\n"
    }
   }
  },
  {
   "cell_type": "code",
   "execution_count": 80,
   "outputs": [],
   "source": [
    "def writeOne(source_csv,path,timestamp):\n",
    "    with open(path,'w') as file_oneNeed:\n",
    "        file_oneNeed_dict_writer=csv.DictWriter(file_oneNeed,source_csv.fieldnames)\n",
    "        file_oneNeed_dict_writer.writeheader()\n",
    "        oneLine=next(source_csv)\n",
    "        while True:\n",
    "            if oneLine[\"timestamp\"]!=timestamp:\n",
    "                file_oneNeed_dict_writer.writerow(oneLine)\n",
    "                oneLine=next(source_csv)\n",
    "            else:\n",
    "                break"
   ],
   "metadata": {
    "collapsed": false,
    "pycharm": {
     "name": "#%%\n"
    }
   }
  },
  {
   "cell_type": "code",
   "execution_count": 81,
   "outputs": [
    {
     "ename": "OSError",
     "evalue": "[Errno 22] Invalid argument: 'C:\\\\Users\\\\lenovo\\\\work\\\\project\\\\sugarJar\\\\simu\\\\data\\\\C:\\\\Users\\\\lenovo\\\\work\\\\project\\\\sugarJar\\\\simu\\\\data\\\\1h.csvh.csv'",
     "output_type": "error",
     "traceback": [
      "\u001B[1;31m---------------------------------------------------------------------------\u001B[0m",
      "\u001B[1;31mOSError\u001B[0m                                   Traceback (most recent call last)",
      "\u001B[1;32m<ipython-input-81-d32ece0609d7>\u001B[0m in \u001B[0;36m<module>\u001B[1;34m\u001B[0m\n\u001B[0;32m      7\u001B[0m         \u001B[0mtimestampNow\u001B[0m\u001B[1;33m=\u001B[0m\u001B[0mstr\u001B[0m\u001B[1;33m(\u001B[0m\u001B[0mbase\u001B[0m\u001B[1;33m+\u001B[0m\u001B[1;36m3600\u001B[0m\u001B[1;33m*\u001B[0m\u001B[0moneNeed\u001B[0m\u001B[1;33m)\u001B[0m\u001B[1;33m\u001B[0m\u001B[1;33m\u001B[0m\u001B[0m\n\u001B[0;32m      8\u001B[0m         \u001B[0mpath\u001B[0m\u001B[1;33m=\u001B[0m\u001B[0mfile_url\u001B[0m\u001B[1;33m+\u001B[0m\u001B[0mstr\u001B[0m\u001B[1;33m(\u001B[0m\u001B[0moneNeed\u001B[0m\u001B[1;33m)\u001B[0m\u001B[1;33m+\u001B[0m\u001B[1;34m\"h.csv\"\u001B[0m\u001B[1;33m\u001B[0m\u001B[1;33m\u001B[0m\u001B[0m\n\u001B[1;32m----> 9\u001B[1;33m         \u001B[0mwriteOne\u001B[0m\u001B[1;33m(\u001B[0m\u001B[0mcsv\u001B[0m\u001B[1;33m.\u001B[0m\u001B[0mDictReader\u001B[0m\u001B[1;33m(\u001B[0m\u001B[0mf\u001B[0m\u001B[1;33m)\u001B[0m\u001B[1;33m,\u001B[0m\u001B[0mpath\u001B[0m\u001B[1;33m,\u001B[0m\u001B[0mtimestampNow\u001B[0m\u001B[1;33m)\u001B[0m\u001B[1;33m\u001B[0m\u001B[1;33m\u001B[0m\u001B[0m\n\u001B[0m\u001B[0;32m     10\u001B[0m \u001B[1;33m\u001B[0m\u001B[0m\n",
      "\u001B[1;32m<ipython-input-80-5b1a743cb256>\u001B[0m in \u001B[0;36mwriteOne\u001B[1;34m(source_csv, hours, timestamp)\u001B[0m\n\u001B[0;32m      1\u001B[0m \u001B[1;32mdef\u001B[0m \u001B[0mwriteOne\u001B[0m\u001B[1;33m(\u001B[0m\u001B[0msource_csv\u001B[0m\u001B[1;33m,\u001B[0m\u001B[0mhours\u001B[0m\u001B[1;33m,\u001B[0m\u001B[0mtimestamp\u001B[0m\u001B[1;33m)\u001B[0m\u001B[1;33m:\u001B[0m\u001B[1;33m\u001B[0m\u001B[1;33m\u001B[0m\u001B[0m\n\u001B[1;32m----> 2\u001B[1;33m     \u001B[1;32mwith\u001B[0m \u001B[0mopen\u001B[0m\u001B[1;33m(\u001B[0m\u001B[0mfile_url\u001B[0m\u001B[1;33m+\u001B[0m\u001B[0mstr\u001B[0m\u001B[1;33m(\u001B[0m\u001B[0mhours\u001B[0m\u001B[1;33m)\u001B[0m\u001B[1;33m+\u001B[0m\u001B[1;34m\"h.csv\"\u001B[0m\u001B[1;33m,\u001B[0m\u001B[1;34m'w'\u001B[0m\u001B[1;33m)\u001B[0m \u001B[1;32mas\u001B[0m \u001B[0mfile_oneNeed\u001B[0m\u001B[1;33m:\u001B[0m\u001B[1;33m\u001B[0m\u001B[1;33m\u001B[0m\u001B[0m\n\u001B[0m\u001B[0;32m      3\u001B[0m         \u001B[0mfile_oneNeed_dict_writer\u001B[0m\u001B[1;33m=\u001B[0m\u001B[0mcsv\u001B[0m\u001B[1;33m.\u001B[0m\u001B[0mDictWriter\u001B[0m\u001B[1;33m(\u001B[0m\u001B[0mfile_oneNeed\u001B[0m\u001B[1;33m,\u001B[0m\u001B[0msource_csv\u001B[0m\u001B[1;33m.\u001B[0m\u001B[0mfieldnames\u001B[0m\u001B[1;33m)\u001B[0m\u001B[1;33m\u001B[0m\u001B[1;33m\u001B[0m\u001B[0m\n\u001B[0;32m      4\u001B[0m         \u001B[0mfile_oneNeed_dict_writer\u001B[0m\u001B[1;33m.\u001B[0m\u001B[0mwriteheader\u001B[0m\u001B[1;33m(\u001B[0m\u001B[1;33m)\u001B[0m\u001B[1;33m\u001B[0m\u001B[1;33m\u001B[0m\u001B[0m\n\u001B[0;32m      5\u001B[0m         \u001B[0moneLine\u001B[0m\u001B[1;33m=\u001B[0m\u001B[0mnext\u001B[0m\u001B[1;33m(\u001B[0m\u001B[0msource_csv\u001B[0m\u001B[1;33m)\u001B[0m\u001B[1;33m\u001B[0m\u001B[1;33m\u001B[0m\u001B[0m\n",
      "\u001B[1;31mOSError\u001B[0m: [Errno 22] Invalid argument: 'C:\\\\Users\\\\lenovo\\\\work\\\\project\\\\sugarJar\\\\simu\\\\data\\\\C:\\\\Users\\\\lenovo\\\\work\\\\project\\\\sugarJar\\\\simu\\\\data\\\\1h.csvh.csv'"
     ]
    }
   ],
   "source": [
    "import csv\n",
    "import copy\n",
    "file_url=\"C:\\\\Users\\\\lenovo\\\\work\\\\project\\\\sugarJar\\\\simu\\\\data\\\\\"\n",
    "with open(file_url+\"54.csv\") as f:\n",
    "    # write all the needs one by one(not spend more time to do parallel\n",
    "    for oneNeed in needsInHour:\n",
    "        timestampNow=str(base+3600*oneNeed)\n",
    "        path=file_url+str(oneNeed)+\"h.csv\"\n",
    "        writeOne(csv.DictReader(f),path,timestampNow)"
   ],
   "metadata": {
    "collapsed": false,
    "pycharm": {
     "name": "#%%\n"
    }
   }
  },
  {
   "cell_type": "code",
   "execution_count": null,
   "outputs": [],
   "source": [],
   "metadata": {
    "collapsed": false,
    "pycharm": {
     "name": "#%%\n"
    }
   }
  }
 ],
 "metadata": {
  "kernelspec": {
   "display_name": "Python 3",
   "language": "python",
   "name": "python3"
  },
  "language_info": {
   "codemirror_mode": {
    "name": "ipython",
    "version": 2
   },
   "file_extension": ".py",
   "mimetype": "text/x-python",
   "name": "python",
   "nbconvert_exporter": "python",
   "pygments_lexer": "ipython2",
   "version": "2.7.6"
  }
 },
 "nbformat": 4,
 "nbformat_minor": 0
}